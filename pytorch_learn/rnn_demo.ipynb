{
 "cells": [
  {
   "cell_type": "code",
   "execution_count": 1,
   "metadata": {
    "collapsed": true,
    "pycharm": {
     "is_executing": false
    }
   },
   "outputs": [
    {
     "data": {
      "text/plain": [
       "torch.Size([50, 20])"
      ]
     },
     "execution_count": 1,
     "metadata": {},
     "output_type": "execute_result"
    }
   ],
   "source": [
    "from torch import nn\n",
    "basic_rnn = nn.RNN(input_size=20,hidden_size=50,num_layers=2)\n",
    "basic_rnn.weight_ih_l0.shape"
   ]
  },
  {
   "cell_type": "code",
   "execution_count": 2,
   "metadata": {
    "collapsed": false,
    "pycharm": {
     "name": "#%%\n",
     "is_executing": false
    }
   },
   "outputs": [
    {
     "data": {
      "text/plain": [
       "torch.Size([50, 50])"
      ]
     },
     "execution_count": 2,
     "metadata": {},
     "output_type": "execute_result"
    }
   ],
   "source": [
    "basic_rnn.weight_hh_l0.shape"
   ]
  },
  {
   "cell_type": "code",
   "execution_count": 3,
   "metadata": {
    "collapsed": false,
    "pycharm": {
     "name": "#%%\n",
     "is_executing": false
    }
   },
   "outputs": [
    {
     "data": {
      "text/plain": [
       "torch.Size([50, 50])"
      ]
     },
     "execution_count": 3,
     "metadata": {},
     "output_type": "execute_result"
    }
   ],
   "source": [
    "basic_rnn.weight_ih_l1.shape"
   ]
  },
  {
   "cell_type": "code",
   "execution_count": 4,
   "metadata": {
    "collapsed": false,
    "pycharm": {
     "name": "#%%\n",
     "is_executing": false
    }
   },
   "outputs": [
    {
     "data": {
      "text/plain": [
       "torch.Size([50, 50])"
      ]
     },
     "execution_count": 4,
     "metadata": {},
     "output_type": "execute_result"
    }
   ],
   "source": [
    "basic_rnn.weight_hh_l1.shape"
   ]
  },
  {
   "cell_type": "code",
   "execution_count": 5,
   "metadata": {
    "collapsed": false,
    "pycharm": {
     "name": "#%%\n"
    }
   },
   "outputs": [],
   "source": [
    "from torch.autograd import Variable\n",
    "import torch\n",
    "\n",
    "toy_input = Variable(torch.randn(100, 32, 20))\n",
    "h_0 = Variable(torch.randn(2, 32, 50))\n"
   ]
  },
  {
   "cell_type": "code",
   "execution_count": 6,
   "metadata": {},
   "outputs": [],
   "source": [
    "toy_out,h_n = basic_rnn(toy_input,h_0)"
   ]
  },
  {
   "cell_type": "code",
   "execution_count": 7,
   "metadata": {},
   "outputs": [
    {
     "name": "stdout",
     "output_type": "stream",
     "text": [
      "torch.Size([2, 32, 50])\ntorch.Size([100, 32, 50])\n"
     ]
    }
   ],
   "source": [
    "print(h_n.size())\n",
    "print(toy_out.size())"
   ]
  },
  {
   "cell_type": "code",
   "execution_count": 8,
   "metadata": {},
   "outputs": [],
   "source": [
    "from torch import nn"
   ]
  },
  {
   "cell_type": "code",
   "execution_count": 9,
   "metadata": {},
   "outputs": [
    {
     "name": "stdout",
     "output_type": "stream",
     "text": [
      "torch.Size([100, 32, 50])\ntorch.Size([2, 32, 50])\ntorch.Size([2, 32, 50])\n"
     ]
    }
   ],
   "source": [
    "lstm = nn.LSTM(input_size=20, hidden_size=50, num_layers=2)\n",
    "lstm_out, (h_n, c_n) = lstm(toy_input)\n",
    "print(lstm_out.size())\n",
    "print(h_n.size())\n",
    "print(c_n.size())\n"
   ]
  },
  {
   "cell_type": "code",
   "execution_count": 10,
   "metadata": {},
   "outputs": [],
   "source": [
    "rnn = nn.GRU(10, 20, 2)\n",
    "input = torch.randn(5, 3, 10)\n",
    "h0 = torch.randn(2, 3, 20)\n",
    "output, hn = rnn(input, h0)"
   ]
  },
  {
   "cell_type": "code",
   "execution_count": 11,
   "metadata": {},
   "outputs": [
    {
     "name": "stdout",
     "output_type": "stream",
     "text": [
      "torch.Size([5, 3, 20])\n"
     ]
    }
   ],
   "source": [
    "print(output.size())"
   ]
  },
  {
   "cell_type": "code",
   "execution_count": 12,
   "metadata": {},
   "outputs": [
    {
     "name": "stdout",
     "output_type": "stream",
     "text": [
      "torch.Size([2, 3, 20])\n"
     ]
    }
   ],
   "source": [
    "print(hn.size())"
   ]
  },
  {
   "cell_type": "code",
   "execution_count": 13,
   "metadata": {},
   "outputs": [
    {
     "data": {
      "text/plain": [
       "tensor([[ 0.2708, -0.1144, -0.2568, -0.0844, -0.0232, -0.0970,  0.0867, -0.1601,\n         -0.4536,  0.0274, -0.0789, -0.0266,  0.0531, -0.2782,  0.3151,  0.3062,\n         -0.1994,  0.1085,  0.0116,  0.2368],\n        [ 0.1702,  0.0704, -0.2189,  0.0571, -0.0327, -0.1572, -0.0821, -0.0178,\n         -0.1501,  0.0952, -0.1159,  0.2257,  0.0170, -0.1681,  0.2965, -0.1821,\n         -0.3298,  0.3233, -0.3490, -0.1680],\n        [ 0.1762,  0.0178, -0.1962,  0.0481,  0.0139, -0.0750, -0.1887, -0.0265,\n          0.0303,  0.1586,  0.0016,  0.2525, -0.1856, -0.1785,  0.2299,  0.2757,\n         -0.3057,  0.0108, -0.0996,  0.1327]], grad_fn=<SliceBackward>)"
      ]
     },
     "execution_count": 13,
     "metadata": {},
     "output_type": "execute_result"
    }
   ],
   "source": [
    "output[-1,:,:]"
   ]
  },
  {
   "cell_type": "code",
   "execution_count": 14,
   "metadata": {},
   "outputs": [
    {
     "data": {
      "text/plain": [
       "tensor([[[-0.1746,  0.1589,  0.1432,  0.0368, -0.2824,  0.4511, -0.0283,\n           0.2257,  0.1174, -0.1671, -0.0831,  0.1756, -0.0074, -0.0625,\n          -0.3099,  0.0626, -0.0823, -0.3205,  0.1499,  0.2004],\n         [-0.3339,  0.3477, -0.0475,  0.0024,  0.0764,  0.4361,  0.1954,\n          -0.2192,  0.1675, -0.2451, -0.1685, -0.0837,  0.2732, -0.1403,\n          -0.3172, -0.4685, -0.0029, -0.3365, -0.1963,  0.5516],\n         [-0.1755,  0.1888,  0.0594, -0.2427,  0.0406,  0.1024,  0.0703,\n          -0.0903, -0.1740, -0.2542, -0.2724, -0.0290, -0.2310, -0.3264,\n          -0.2651, -0.1116, -0.2078, -0.0251,  0.1162,  0.0415]],\n\n        [[ 0.2708, -0.1144, -0.2568, -0.0844, -0.0232, -0.0970,  0.0867,\n          -0.1601, -0.4536,  0.0274, -0.0789, -0.0266,  0.0531, -0.2782,\n           0.3151,  0.3062, -0.1994,  0.1085,  0.0116,  0.2368],\n         [ 0.1702,  0.0704, -0.2189,  0.0571, -0.0327, -0.1572, -0.0821,\n          -0.0178, -0.1501,  0.0952, -0.1159,  0.2257,  0.0170, -0.1681,\n           0.2965, -0.1821, -0.3298,  0.3233, -0.3490, -0.1680],\n         [ 0.1762,  0.0178, -0.1962,  0.0481,  0.0139, -0.0750, -0.1887,\n          -0.0265,  0.0303,  0.1586,  0.0016,  0.2525, -0.1856, -0.1785,\n           0.2299,  0.2757, -0.3057,  0.0108, -0.0996,  0.1327]]],\n       grad_fn=<StackBackward>)"
      ]
     },
     "execution_count": 14,
     "metadata": {},
     "output_type": "execute_result"
    }
   ],
   "source": [
    "hn"
   ]
  },
  {
   "cell_type": "code",
   "execution_count": 1,
   "metadata": {
    "pycharm": {
     "is_executing": false
    }
   },
   "outputs": [],
   "source": [
    "from torch import nn"
   ]
  },
  {
   "cell_type": "code",
   "execution_count": null,
   "outputs": [],
   "source": [
    "\n"
   ],
   "metadata": {
    "collapsed": false,
    "pycharm": {
     "name": "#%%\n"
    }
   }
  }
 ],
 "metadata": {
  "language_info": {
   "codemirror_mode": {
    "name": "ipython",
    "version": 2
   },
   "file_extension": ".py",
   "mimetype": "text/x-python",
   "name": "python",
   "nbconvert_exporter": "python",
   "pygments_lexer": "ipython2",
   "version": "2.7.6"
  },
  "kernelspec": {
   "name": "python3",
   "language": "python",
   "display_name": "Python 3"
  },
  "pycharm": {
   "stem_cell": {
    "cell_type": "raw",
    "source": [],
    "metadata": {
     "collapsed": false
    }
   }
  }
 },
 "nbformat": 4,
 "nbformat_minor": 0
}